{
 "cells": [
  {
   "cell_type": "code",
   "execution_count": null,
   "id": "5aa586ec",
   "metadata": {},
   "outputs": [],
   "source": [
    "pip install bs4\n",
    "\n",
    "pip install lxml"
   ]
  },
  {
   "cell_type": "code",
   "execution_count": 2,
   "id": "9427b858",
   "metadata": {},
   "outputs": [],
   "source": [
    "from bs4 import BeautifulSoup "
   ]
  },
  {
   "cell_type": "code",
   "execution_count": 9,
   "id": "ffaeadc7",
   "metadata": {},
   "outputs": [
    {
     "name": "stdout",
     "output_type": "stream",
     "text": [
      "<!doctype html>\n",
      "<html lang=\"en\">\n",
      "   <head>\n",
      "      <meta charset=\"utf-8\">\n",
      "      <meta name=\"viewport\" content=\"width=device-width, initial-scale=1, shrink-to-fit=no\">\n",
      "      <link rel=\"stylesheet\" href=\"https://stackpath.bootstrapcdn.com/bootstrap/4.5.2/css/bootstrap.min.css\" integrity=\"sha384-JcKb8q3iqJ61gNV9KGb8thSsNjpSL0n8PARn9HuZOnIxN0hoP+VmmDGMN5t9UJ0Z\" crossorigin=\"anonymous\">\n",
      "      <title>My Courses</title>\n",
      "   </head>\n",
      "   <body>\n",
      "      <h1>Hello, Start Learning!</h1>\n",
      "      <div class=\"card\" id=\"card-python-for-beginners\">\n",
      "         <div class=\"card-header\">\n",
      "            Python\n",
      "         </div>\n",
      "         <div class=\"card-body\">\n",
      "            <h5 class=\"card-title\">Python for beginners</h5>\n",
      "            <p class=\"card-text\">If you are new to Python, this is the course that you should buy!</p>\n",
      "            <a href=\"#\" class=\"btn btn-primary\">Start for 20$</a>\n",
      "         </div>\n",
      "      </div>\n",
      "      <div class=\"card\" id=\"card-python-web-development\">\n",
      "         <div class=\"card-header\">\n",
      "            Python\n",
      "         </div>\n",
      "         <div class=\"card-body\">\n",
      "            <h5 class=\"card-title\">Python Web Development</h5>\n",
      "            <p class=\"card-text\">If you feel enough confident with python, you are ready to learn how to create your own website!</p>\n",
      "            <a href=\"#\" class=\"btn btn-primary\">Start for 50$</a>\n",
      "         </div>\n",
      "      </div>\n",
      "      <div class=\"card\" id=\"card-python-machine-learning\">\n",
      "         <div class=\"card-header\">\n",
      "            Python\n",
      "         </div>\n",
      "         <div class=\"card-body\">\n",
      "            <h5 class=\"card-title\">Python Machine Learning</h5>\n",
      "            <p class=\"card-text\">Become a Python Machine Learning master!</p>\n",
      "            <a href=\"#\" class=\"btn btn-primary\">Start for 100$</a>\n",
      "         </div>\n",
      "      </div>\n",
      "   </body>\n",
      "</html>\n"
     ]
    }
   ],
   "source": [
    "with open('home.html', 'r') as html_file:\n",
    "    content = html_file.read()\n",
    "    print(content)"
   ]
  },
  {
   "cell_type": "code",
   "execution_count": null,
   "id": "36264a6a",
   "metadata": {},
   "outputs": [],
   "source": [
    "soup = BeautifulSoup(content, 'lxml')\n",
    "soup"
   ]
  },
  {
   "cell_type": "code",
   "execution_count": 14,
   "id": "98133573",
   "metadata": {},
   "outputs": [
    {
     "data": {
      "text/plain": [
       "'<!DOCTYPE html>\\n<html lang=\"en\">\\n <head>\\n  <meta charset=\"utf-8\"/>\\n  <meta content=\"width=device-width, initial-scale=1, shrink-to-fit=no\" name=\"viewport\"/>\\n  <link crossorigin=\"anonymous\" href=\"https://stackpath.bootstrapcdn.com/bootstrap/4.5.2/css/bootstrap.min.css\" integrity=\"sha384-JcKb8q3iqJ61gNV9KGb8thSsNjpSL0n8PARn9HuZOnIxN0hoP+VmmDGMN5t9UJ0Z\" rel=\"stylesheet\"/>\\n  <title>\\n   My Courses\\n  </title>\\n </head>\\n <body>\\n  <h1>\\n   Hello, Start Learning!\\n  </h1>\\n  <div class=\"card\" id=\"card-python-for-beginners\">\\n   <div class=\"card-header\">\\n    Python\\n   </div>\\n   <div class=\"card-body\">\\n    <h5 class=\"card-title\">\\n     Python for beginners\\n    </h5>\\n    <p class=\"card-text\">\\n     If you are new to Python, this is the course that you should buy!\\n    </p>\\n    <a class=\"btn btn-primary\" href=\"#\">\\n     Start for 20$\\n    </a>\\n   </div>\\n  </div>\\n  <div class=\"card\" id=\"card-python-web-development\">\\n   <div class=\"card-header\">\\n    Python\\n   </div>\\n   <div class=\"card-body\">\\n    <h5 class=\"card-title\">\\n     Python Web Development\\n    </h5>\\n    <p class=\"card-text\">\\n     If you feel enough confident with python, you are ready to learn how to create your own website!\\n    </p>\\n    <a class=\"btn btn-primary\" href=\"#\">\\n     Start for 50$\\n    </a>\\n   </div>\\n  </div>\\n  <div class=\"card\" id=\"card-python-machine-learning\">\\n   <div class=\"card-header\">\\n    Python\\n   </div>\\n   <div class=\"card-body\">\\n    <h5 class=\"card-title\">\\n     Python Machine Learning\\n    </h5>\\n    <p class=\"card-text\">\\n     Become a Python Machine Learning master!\\n    </p>\\n    <a class=\"btn btn-primary\" href=\"#\">\\n     Start for 100$\\n    </a>\\n   </div>\\n  </div>\\n </body>\\n</html>\\n'"
      ]
     },
     "execution_count": 14,
     "metadata": {},
     "output_type": "execute_result"
    }
   ],
   "source": [
    "soup.prettify()  # to view "
   ]
  },
  {
   "cell_type": "code",
   "execution_count": 16,
   "id": "4209418d",
   "metadata": {},
   "outputs": [
    {
     "data": {
      "text/plain": [
       "<h5 class=\"card-title\">Python for beginners</h5>"
      ]
     },
     "execution_count": 16,
     "metadata": {},
     "output_type": "execute_result"
    }
   ],
   "source": [
    "tags = soup.find('h5')\n",
    "tags"
   ]
  },
  {
   "cell_type": "code",
   "execution_count": 18,
   "id": "90146823",
   "metadata": {},
   "outputs": [
    {
     "data": {
      "text/plain": [
       "[<h5 class=\"card-title\">Python for beginners</h5>,\n",
       " <h5 class=\"card-title\">Python Web Development</h5>,\n",
       " <h5 class=\"card-title\">Python Machine Learning</h5>]"
      ]
     },
     "execution_count": 18,
     "metadata": {},
     "output_type": "execute_result"
    }
   ],
   "source": [
    "courses_html_tags = soup.find_all('h5')\n",
    "courses_html_tags"
   ]
  },
  {
   "cell_type": "code",
   "execution_count": 19,
   "id": "2674c7e0",
   "metadata": {},
   "outputs": [
    {
     "name": "stdout",
     "output_type": "stream",
     "text": [
      "Python for beginners\n",
      "Python Web Development\n",
      "Python Machine Learning\n"
     ]
    }
   ],
   "source": [
    "for course in courses_html_tags:\n",
    "    print(course.text)"
   ]
  },
  {
   "cell_type": "code",
   "execution_count": null,
   "id": "f6ed29c9",
   "metadata": {},
   "outputs": [],
   "source": []
  },
  {
   "cell_type": "code",
   "execution_count": 25,
   "id": "c888d0cc",
   "metadata": {},
   "outputs": [
    {
     "data": {
      "text/plain": [
       "[<div class=\"card\" id=\"card-python-for-beginners\">\n",
       " <div class=\"card-header\">\n",
       "             Python\n",
       "          </div>\n",
       " <div class=\"card-body\">\n",
       " <h5 class=\"card-title\">Python for beginners</h5>\n",
       " <p class=\"card-text\">If you are new to Python, this is the course that you should buy!</p>\n",
       " <a class=\"btn btn-primary\" href=\"#\">Start for 20$</a>\n",
       " </div>\n",
       " </div>,\n",
       " <div class=\"card\" id=\"card-python-web-development\">\n",
       " <div class=\"card-header\">\n",
       "             Python\n",
       "          </div>\n",
       " <div class=\"card-body\">\n",
       " <h5 class=\"card-title\">Python Web Development</h5>\n",
       " <p class=\"card-text\">If you feel enough confident with python, you are ready to learn how to create your own website!</p>\n",
       " <a class=\"btn btn-primary\" href=\"#\">Start for 50$</a>\n",
       " </div>\n",
       " </div>,\n",
       " <div class=\"card\" id=\"card-python-machine-learning\">\n",
       " <div class=\"card-header\">\n",
       "             Python\n",
       "          </div>\n",
       " <div class=\"card-body\">\n",
       " <h5 class=\"card-title\">Python Machine Learning</h5>\n",
       " <p class=\"card-text\">Become a Python Machine Learning master!</p>\n",
       " <a class=\"btn btn-primary\" href=\"#\">Start for 100$</a>\n",
       " </div>\n",
       " </div>]"
      ]
     },
     "execution_count": 25,
     "metadata": {},
     "output_type": "execute_result"
    }
   ],
   "source": [
    "soup = BeautifulSoup(content, 'lxml')\n",
    "\n",
    "course_cards = soup.find_all('div', class_ = 'card')\n",
    "course_cards"
   ]
  },
  {
   "cell_type": "code",
   "execution_count": 26,
   "id": "2822e879",
   "metadata": {},
   "outputs": [
    {
     "name": "stdout",
     "output_type": "stream",
     "text": [
      "<div class=\"card\" id=\"card-python-for-beginners\">\n",
      "<div class=\"card-header\">\n",
      "            Python\n",
      "         </div>\n",
      "<div class=\"card-body\">\n",
      "<h5 class=\"card-title\">Python for beginners</h5>\n",
      "<p class=\"card-text\">If you are new to Python, this is the course that you should buy!</p>\n",
      "<a class=\"btn btn-primary\" href=\"#\">Start for 20$</a>\n",
      "</div>\n",
      "</div>\n",
      "<div class=\"card\" id=\"card-python-web-development\">\n",
      "<div class=\"card-header\">\n",
      "            Python\n",
      "         </div>\n",
      "<div class=\"card-body\">\n",
      "<h5 class=\"card-title\">Python Web Development</h5>\n",
      "<p class=\"card-text\">If you feel enough confident with python, you are ready to learn how to create your own website!</p>\n",
      "<a class=\"btn btn-primary\" href=\"#\">Start for 50$</a>\n",
      "</div>\n",
      "</div>\n",
      "<div class=\"card\" id=\"card-python-machine-learning\">\n",
      "<div class=\"card-header\">\n",
      "            Python\n",
      "         </div>\n",
      "<div class=\"card-body\">\n",
      "<h5 class=\"card-title\">Python Machine Learning</h5>\n",
      "<p class=\"card-text\">Become a Python Machine Learning master!</p>\n",
      "<a class=\"btn btn-primary\" href=\"#\">Start for 100$</a>\n",
      "</div>\n",
      "</div>\n"
     ]
    }
   ],
   "source": [
    "for course in course_cards:\n",
    "    print(course)"
   ]
  },
  {
   "cell_type": "code",
   "execution_count": 33,
   "id": "b1cfa8b0",
   "metadata": {},
   "outputs": [
    {
     "name": "stdout",
     "output_type": "stream",
     "text": [
      "Python for beginners costs 20$\n",
      "Python Web Development costs 50$\n",
      "Python Machine Learning costs 100$\n"
     ]
    }
   ],
   "source": [
    "for course in course_cards:\n",
    "    course_name = course.h5.text\n",
    "    course_price = course.a.text.split()[-1]\n",
    "    \n",
    "    print(f'{course_name} costs {course_price}')"
   ]
  },
  {
   "cell_type": "code",
   "execution_count": null,
   "id": "14e93f53",
   "metadata": {},
   "outputs": [],
   "source": []
  },
  {
   "cell_type": "code",
   "execution_count": null,
   "id": "450bf739",
   "metadata": {},
   "outputs": [],
   "source": []
  },
  {
   "cell_type": "code",
   "execution_count": null,
   "id": "9527e802",
   "metadata": {},
   "outputs": [],
   "source": []
  }
 ],
 "metadata": {
  "kernelspec": {
   "display_name": "Python 3 (ipykernel)",
   "language": "python",
   "name": "python3"
  },
  "language_info": {
   "codemirror_mode": {
    "name": "ipython",
    "version": 3
   },
   "file_extension": ".py",
   "mimetype": "text/x-python",
   "name": "python",
   "nbconvert_exporter": "python",
   "pygments_lexer": "ipython3",
   "version": "3.11.5"
  }
 },
 "nbformat": 4,
 "nbformat_minor": 5
}
