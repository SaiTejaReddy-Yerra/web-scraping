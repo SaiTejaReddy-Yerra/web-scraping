{
 "cells": [
  {
   "cell_type": "code",
   "execution_count": 23,
   "id": "c28386bc",
   "metadata": {},
   "outputs": [],
   "source": [
    "from bs4 import BeautifulSoup\n",
    "import requests\n",
    "\n",
    "import time\n",
    "import datetime\n",
    "\n",
    "import csv\n",
    "\n",
    "import smtplib"
   ]
  },
  {
   "cell_type": "code",
   "execution_count": 43,
   "id": "39f9cd03",
   "metadata": {},
   "outputs": [
    {
     "name": "stdout",
     "output_type": "stream",
     "text": [
      "\n",
      "                    Nike Mens Men's NSW Tee Brand Mark\n",
      "                   \n",
      "\n",
      "                       $23.39\n",
      "                      \n"
     ]
    }
   ],
   "source": [
    "# connect to website & pull data\n",
    "\n",
    "URL = \"https://www.amazon.com/Nike-Sports-Futura-AR5004-101-White/dp/B07HMWPHLW/ref=sr_1_10?crid=1ZDOSOYI11WL4&dib=eyJ2IjoiMSJ9.jUeAWGfKjj0Kw8xP6Sb-QIvGR-D1DqDOX0e1pwUspVlsFuXNz_duWbGYWOimweLvMW8FnFG8x27A88wKMoLKDniZ2tGw_JTTzxqDPnBkxKTR7rry1Qgnqfpz1WEbfNIVnFvOeTwbabW1vcyOGPMyrPbY2sJ1zD2zlxuj00oGyhkEQmq2Z2JxgRI9JejwbkDFFzPQ2B2E-SkfKO4cV0BPrWQR7xkPsJtZg1stuK90ahl_3KEFdbkM0AdiSfT4f-JDs69FJLoqXNk8g7KBOcjdaYkCpFxx-jxg6UjDEWMJ7sELyEs5F39JC7vTv1qy2SO70qN8OjIYMADJLXdP3TMomqEc_mf3VLVwlGqoyV5N94IOQynVS5wvhZDDC8xDPsSIiLTdzXjfmL0RZSbCizu16FTOD5Wyi-3tFFo5h5R02RLEC9NMBqU8Y0WtkEmR5Xw_.AtvlM2MCLFgMo7eoXSDVmvgCiGrdK1JS-Ptbymlss5Q&dib_tag=se&keywords=nike+white+tshirt+men&qid=1741417380&sprefix=nike+white+tshirt%2Caps%2C307&sr=8-10\"\n",
    "\n",
    "headers = {\"User-Agent\": \"Mozilla/5.0 (Windows NT 10.0; Win64; x64) AppleWebKit/537.36 (KHTML, like Gecko) Chrome/133.0.0.0 Safari/537.36\",\n",
    "           \"Accept-Encoding\": \"gzip, deflate, br, zstd\",\n",
    "           \"Accept\": \"text/html,application/xhtml+xml,application/xml;q=0.9,image/avif,image/webp,image/apng,*/*;q=0.8,application/signed-exchange;v=b3;q=0.7\",\n",
    "           \"DNT\":\"1\",\n",
    "           \"Connection\":\"close\",\n",
    "           \"Upgrade-Insecure-Requests\": \"1\"}\n",
    "\n",
    "page = requests.get(URL, headers = headers)\n",
    "soup1 = BeautifulSoup(page.content, \"html.parser\")\n",
    "soup= BeautifulSoup(soup1.prettify(), \"html.parser\")\n",
    "\n",
    "title= soup.find(id=\"productTitle\").string\n",
    "price = soup.find(class_=\"a-offscreen\").text\n",
    "\n",
    "print(title)\n",
    "print(price)"
   ]
  },
  {
   "cell_type": "code",
   "execution_count": 45,
   "id": "ba4d50aa",
   "metadata": {},
   "outputs": [
    {
     "name": "stdout",
     "output_type": "stream",
     "text": [
      "Nike Mens Men's NSW Tee Brand Mark\n",
      "3.39\n"
     ]
    }
   ],
   "source": [
    "# Clean up the data a little bit\n",
    " \n",
    "title = title.strip()\n",
    "price = price.strip()[1:]\n",
    "\n",
    "print(title)\n",
    "print(price)"
   ]
  },
  {
   "cell_type": "code",
   "execution_count": 60,
   "id": "6e170287",
   "metadata": {},
   "outputs": [
    {
     "name": "stdout",
     "output_type": "stream",
     "text": [
      "2025-03-08\n",
      "2025-03-08\n"
     ]
    }
   ],
   "source": [
    "# Create a Timestamp for your output to track when data was collected\n",
    "\n",
    "import datetime\n",
    "\n",
    "today = datetime.date.today()\n",
    "print(today)\n"
   ]
  },
  {
   "cell_type": "code",
   "execution_count": 48,
   "id": "6869d3e4",
   "metadata": {},
   "outputs": [],
   "source": [
    "# Create CSV file and write headers and data into the file\n",
    "\n",
    "import csv\n",
    "\n",
    "header = [\"Title\", \"Price\", \"Date\"]\n",
    "data = [title, price, today]\n",
    "\n",
    "with open(\"AmazonWebScraperDataset.csv\", \"w\", newline='', encoding='UTF8') as f:\n",
    "    \n",
    "    writer = csv.writer(f)\n",
    "    writer.writerow(header)\n",
    "    writer.writerow(data)\n",
    "    "
   ]
  },
  {
   "cell_type": "code",
   "execution_count": 55,
   "id": "36c87528",
   "metadata": {},
   "outputs": [
    {
     "name": "stdout",
     "output_type": "stream",
     "text": [
      "                                Title  Price        Date\n",
      "0  Nike Mens Men's NSW Tee Brand Mark   3.39  2025-03-08\n",
      "1  Nike Mens Men's NSW Tee Brand Mark   3.39  2025-03-08\n",
      "2  Nike Mens Men's NSW Tee Brand Mark   3.39  2025-03-08\n"
     ]
    }
   ],
   "source": [
    "# pandas df\n",
    "\n",
    "import pandas as pd\n",
    "\n",
    "df = pd.read_csv(r\"C:\\Users\\yerra\\Jupiter Notebook\\Web Scraping\\AmazonWebScraperDataset.csv\")\n",
    "print(df)"
   ]
  },
  {
   "cell_type": "code",
   "execution_count": 54,
   "id": "8d5e7ebc",
   "metadata": {},
   "outputs": [],
   "source": [
    " # appending data to csv\n",
    "\n",
    "with open(\"AmazonWebScraperDataset.csv\", \"a+\", newline='', encoding='UTF8') as f:   \n",
    "    writer = csv.writer(f)\n",
    "    writer.writerow(data)"
   ]
  },
  {
   "cell_type": "code",
   "execution_count": null,
   "id": "4a3c6eb2",
   "metadata": {},
   "outputs": [],
   "source": []
  },
  {
   "cell_type": "code",
   "execution_count": null,
   "id": "4060e6a9",
   "metadata": {},
   "outputs": [],
   "source": [
    "#Combine all of the above code into one function"
   ]
  },
  {
   "cell_type": "code",
   "execution_count": 27,
   "id": "522fc21e",
   "metadata": {},
   "outputs": [],
   "source": [
    "def check_price():\n",
    "    \n",
    "    URL = \"https://www.amazon.com/Nike-Sports-Futura-AR5004-101-White/dp/B07HMWPHLW/ref=sr_1_10?crid=1ZDOSOYI11WL4&dib=eyJ2IjoiMSJ9.jUeAWGfKjj0Kw8xP6Sb-QIvGR-D1DqDOX0e1pwUspVlsFuXNz_duWbGYWOimweLvMW8FnFG8x27A88wKMoLKDniZ2tGw_JTTzxqDPnBkxKTR7rry1Qgnqfpz1WEbfNIVnFvOeTwbabW1vcyOGPMyrPbY2sJ1zD2zlxuj00oGyhkEQmq2Z2JxgRI9JejwbkDFFzPQ2B2E-SkfKO4cV0BPrWQR7xkPsJtZg1stuK90ahl_3KEFdbkM0AdiSfT4f-JDs69FJLoqXNk8g7KBOcjdaYkCpFxx-jxg6UjDEWMJ7sELyEs5F39JC7vTv1qy2SO70qN8OjIYMADJLXdP3TMomqEc_mf3VLVwlGqoyV5N94IOQynVS5wvhZDDC8xDPsSIiLTdzXjfmL0RZSbCizu16FTOD5Wyi-3tFFo5h5R02RLEC9NMBqU8Y0WtkEmR5Xw_.AtvlM2MCLFgMo7eoXSDVmvgCiGrdK1JS-Ptbymlss5Q&dib_tag=se&keywords=nike+white+tshirt+men&qid=1741417380&sprefix=nike+white+tshirt%2Caps%2C307&sr=8-10\"\n",
    "\n",
    "    headers = {\"User-Agent\": \"Mozilla/5.0 (Windows NT 10.0; Win64; x64) AppleWebKit/537.36 (KHTML, like Gecko) Chrome/133.0.0.0 Safari/537.36\",\n",
    "               \"Accept-Encoding\": \"gzip, deflate, br, zstd\",\n",
    "               \"Accept\": \"text/html,application/xhtml+xml,application/xml;q=0.9,image/avif,image/webp,image/apng,*/*;q=0.8,application/signed-exchange;v=b3;q=0.7\",\n",
    "               \"DNT\":\"1\",\n",
    "               \"Connection\":\"close\",\n",
    "               \"Upgrade-Insecure-Requests\": \"1\"}\n",
    "\n",
    "    page = requests.get(URL, headers = headers)\n",
    "    soup1 = BeautifulSoup(page.content, \"html.parser\")\n",
    "    soup= BeautifulSoup(soup1.prettify(), \"html.parser\")\n",
    "\n",
    "    title= soup.find(id=\"productTitle\").string\n",
    "    price = soup.find(class_=\"a-offscreen\").text\n",
    "    \n",
    "    title = title.strip()\n",
    "    price = price.strip()[1:]  \n",
    "    \n",
    "    import datetime\n",
    "    today = datetime.date.today()\n",
    "\n",
    "    import csv\n",
    "\n",
    "    header = [\"Title\", \"Price\", \"Date\"]\n",
    "    data = [title, price, today]\n",
    "\n",
    "    with open(\"AmazonWebScraperDataset.csv\", \"a+\", newline='', encoding='UTF8') as f:\n",
    "\n",
    "        writer = csv.writer(f)\n",
    "        \n",
    "        writer.writerow(data)\n"
   ]
  },
  {
   "cell_type": "code",
   "execution_count": null,
   "id": "5d5a188a",
   "metadata": {},
   "outputs": [],
   "source": [
    "# Runs check_price after a set time and inputs data into your CSV\n",
    "\n",
    "import time\n",
    "\n",
    "while(True):\n",
    "    check_price()\n",
    "    time.sleep(10)"
   ]
  },
  {
   "cell_type": "code",
   "execution_count": null,
   "id": "b92504e4",
   "metadata": {},
   "outputs": [],
   "source": [
    "import pandas as pd\n",
    "\n",
    "df = pd.read_csv(r\"C:\\Users\\yerra\\Jupiter Notebook\\Web Scraping\\AmazonWebScraperDataset.csv\")\n",
    "print(df)"
   ]
  },
  {
   "cell_type": "code",
   "execution_count": null,
   "id": "c8559ea8",
   "metadata": {},
   "outputs": [],
   "source": []
  },
  {
   "cell_type": "code",
   "execution_count": null,
   "id": "962e2504",
   "metadata": {},
   "outputs": [],
   "source": [
    "# If uou want to try sending yourself an email (just for fun) when a price hits below a certain level you can try it\n",
    "# out with this script\n",
    "\n",
    "def send_mail():\n",
    "    server = smtplib.SMTP_SSL('smtp.gmail.com',465)\n",
    "    server.ehlo()\n",
    "    #server.starttls()\n",
    "    server.ehlo()\n",
    "    server.login('someone@gmail.com','xxxxxxxxxxxxxx')\n",
    "    \n",
    "    subject = \"The Shirt you want is below $15! Now is your chance to buy!\"\n",
    "    body = \"Alex, This is the moment we have been waiting for. Now is your chance to pick up the shirt of your dreams. Don't mess it up! Link here: https://www.amazon.com/Funny-Data-Systems-Business-Analyst/dp/B07FNW9FGJ/ref=sr_1_3?dchild=1&keywords=data+analyst+tshirt&qid=1626655184&sr=8-3\"\n",
    "   \n",
    "    msg = f\"Subject: {subject}\\n\\n{body}\"\n",
    "    \n",
    "    server.sendmail(\n",
    "        'someone@gmail.com',\n",
    "        msg\n",
    "     )"
   ]
  },
  {
   "cell_type": "code",
   "execution_count": null,
   "id": "6c9b024e",
   "metadata": {},
   "outputs": [],
   "source": []
  },
  {
   "cell_type": "code",
   "execution_count": null,
   "id": "0b78c643",
   "metadata": {},
   "outputs": [],
   "source": []
  }
 ],
 "metadata": {
  "kernelspec": {
   "display_name": "Python 3 (ipykernel)",
   "language": "python",
   "name": "python3"
  },
  "language_info": {
   "codemirror_mode": {
    "name": "ipython",
    "version": 3
   },
   "file_extension": ".py",
   "mimetype": "text/x-python",
   "name": "python",
   "nbconvert_exporter": "python",
   "pygments_lexer": "ipython3",
   "version": "3.11.5"
  }
 },
 "nbformat": 4,
 "nbformat_minor": 5
}
